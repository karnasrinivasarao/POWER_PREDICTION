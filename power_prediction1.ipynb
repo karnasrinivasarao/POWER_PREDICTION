{
  "nbformat": 4,
  "nbformat_minor": 0,
  "metadata": {
    "colab": {
      "name": "power_prediction1.ipynb",
      "provenance": [],
      "collapsed_sections": []
    },
    "kernelspec": {
      "name": "python3",
      "display_name": "Python 3"
    },
    "language_info": {
      "name": "python"
    }
  },
  "cells": [
    {
      "cell_type": "code",
      "metadata": {
        "id": "x95mwxFVftcX"
      },
      "source": [
        "#Importing the Libraries\n",
        "import pandas as pd\n",
        "import numpy as np"
      ],
      "execution_count": 1,
      "outputs": []
    },
    {
      "cell_type": "code",
      "metadata": {
        "colab": {
          "base_uri": "https://localhost:8080/",
          "height": 411
        },
        "id": "DOR89hb6f38o",
        "outputId": "dc2a26a0-109b-45c2-a195-789cc9e14580"
      },
      "source": [
        "# reading the train csv file \n",
        "train_data = pd.read_csv('/content/drive/MyDrive/power_prediction/train.csv')\n",
        "train_data.head()"
      ],
      "execution_count": 2,
      "outputs": [
        {
          "output_type": "execute_result",
          "data": {
            "text/html": [
              "<div>\n",
              "<style scoped>\n",
              "    .dataframe tbody tr th:only-of-type {\n",
              "        vertical-align: middle;\n",
              "    }\n",
              "\n",
              "    .dataframe tbody tr th {\n",
              "        vertical-align: top;\n",
              "    }\n",
              "\n",
              "    .dataframe thead th {\n",
              "        text-align: right;\n",
              "    }\n",
              "</style>\n",
              "<table border=\"1\" class=\"dataframe\">\n",
              "  <thead>\n",
              "    <tr style=\"text-align: right;\">\n",
              "      <th></th>\n",
              "      <th>tracking_id</th>\n",
              "      <th>datetime</th>\n",
              "      <th>wind_speed(m/s)</th>\n",
              "      <th>atmospheric_temperature(°C)</th>\n",
              "      <th>shaft_temperature(°C)</th>\n",
              "      <th>blades_angle(°)</th>\n",
              "      <th>gearbox_temperature(°C)</th>\n",
              "      <th>engine_temperature(°C)</th>\n",
              "      <th>motor_torque(N-m)</th>\n",
              "      <th>generator_temperature(°C)</th>\n",
              "      <th>atmospheric_pressure(Pascal)</th>\n",
              "      <th>area_temperature(°C)</th>\n",
              "      <th>windmill_body_temperature(°C)</th>\n",
              "      <th>wind_direction(°)</th>\n",
              "      <th>resistance(ohm)</th>\n",
              "      <th>rotor_torque(N-m)</th>\n",
              "      <th>turbine_status</th>\n",
              "      <th>cloud_level</th>\n",
              "      <th>blade_length(m)</th>\n",
              "      <th>blade_breadth(m)</th>\n",
              "      <th>windmill_height(m)</th>\n",
              "      <th>windmill_generated_power(kW/h)</th>\n",
              "    </tr>\n",
              "  </thead>\n",
              "  <tbody>\n",
              "    <tr>\n",
              "      <th>0</th>\n",
              "      <td>WM_33725</td>\n",
              "      <td>2019-08-04 14:33:20</td>\n",
              "      <td>94.820023</td>\n",
              "      <td>-99.000000</td>\n",
              "      <td>41.723019</td>\n",
              "      <td>-0.903423</td>\n",
              "      <td>82.410573</td>\n",
              "      <td>42.523015</td>\n",
              "      <td>2563.124522</td>\n",
              "      <td>76.665560</td>\n",
              "      <td>103402.961872</td>\n",
              "      <td>26.897875</td>\n",
              "      <td>NaN</td>\n",
              "      <td>239.836388</td>\n",
              "      <td>2730.310605</td>\n",
              "      <td>42.084666</td>\n",
              "      <td>BA</td>\n",
              "      <td>Medium</td>\n",
              "      <td>2.217542</td>\n",
              "      <td>0.314065</td>\n",
              "      <td>24.281689</td>\n",
              "      <td>6.766521</td>\n",
              "    </tr>\n",
              "    <tr>\n",
              "      <th>1</th>\n",
              "      <td>WM_698</td>\n",
              "      <td>2018-11-05 10:13:20</td>\n",
              "      <td>241.832734</td>\n",
              "      <td>27.764785</td>\n",
              "      <td>-99.000000</td>\n",
              "      <td>-99.000000</td>\n",
              "      <td>44.104919</td>\n",
              "      <td>46.258870</td>\n",
              "      <td>2372.384119</td>\n",
              "      <td>78.129803</td>\n",
              "      <td>17030.904078</td>\n",
              "      <td>39.801469</td>\n",
              "      <td>NaN</td>\n",
              "      <td>337.944723</td>\n",
              "      <td>1780.207200</td>\n",
              "      <td>107.888643</td>\n",
              "      <td>A2</td>\n",
              "      <td>Medium</td>\n",
              "      <td>4.210346</td>\n",
              "      <td>0.448494</td>\n",
              "      <td>27.262139</td>\n",
              "      <td>5.966275</td>\n",
              "    </tr>\n",
              "    <tr>\n",
              "      <th>2</th>\n",
              "      <td>WM_39146</td>\n",
              "      <td>2019-09-14 14:03:20</td>\n",
              "      <td>95.484724</td>\n",
              "      <td>NaN</td>\n",
              "      <td>41.855473</td>\n",
              "      <td>12.652763</td>\n",
              "      <td>42.322098</td>\n",
              "      <td>42.878552</td>\n",
              "      <td>1657.169646</td>\n",
              "      <td>67.654469</td>\n",
              "      <td>16125.927107</td>\n",
              "      <td>36.116065</td>\n",
              "      <td>45.033197</td>\n",
              "      <td>227.850294</td>\n",
              "      <td>1666.049900</td>\n",
              "      <td>-42.931459</td>\n",
              "      <td>ABC</td>\n",
              "      <td>Medium</td>\n",
              "      <td>2.719475</td>\n",
              "      <td>0.302321</td>\n",
              "      <td>27.366127</td>\n",
              "      <td>2.874342</td>\n",
              "    </tr>\n",
              "    <tr>\n",
              "      <th>3</th>\n",
              "      <td>WM_6757</td>\n",
              "      <td>2018-12-25 15:33:20</td>\n",
              "      <td>238.819424</td>\n",
              "      <td>-99.000000</td>\n",
              "      <td>45.443914</td>\n",
              "      <td>15.115323</td>\n",
              "      <td>44.759643</td>\n",
              "      <td>47.282101</td>\n",
              "      <td>2888.134079</td>\n",
              "      <td>95.389974</td>\n",
              "      <td>18689.732336</td>\n",
              "      <td>46.020045</td>\n",
              "      <td>44.827154</td>\n",
              "      <td>492.081520</td>\n",
              "      <td>1964.502895</td>\n",
              "      <td>42.744596</td>\n",
              "      <td>ABC</td>\n",
              "      <td>NaN</td>\n",
              "      <td>4.857385</td>\n",
              "      <td>0.367140</td>\n",
              "      <td>24.287767</td>\n",
              "      <td>14.851089</td>\n",
              "    </tr>\n",
              "    <tr>\n",
              "      <th>4</th>\n",
              "      <td>WM_21521</td>\n",
              "      <td>2019-05-04 03:13:20</td>\n",
              "      <td>10.722890</td>\n",
              "      <td>NaN</td>\n",
              "      <td>41.981183</td>\n",
              "      <td>1.715696</td>\n",
              "      <td>-17.616459</td>\n",
              "      <td>43.469852</td>\n",
              "      <td>781.695419</td>\n",
              "      <td>37.423065</td>\n",
              "      <td>114468.169007</td>\n",
              "      <td>34.572941</td>\n",
              "      <td>-99.000000</td>\n",
              "      <td>259.274601</td>\n",
              "      <td>1177.516152</td>\n",
              "      <td>13.387289</td>\n",
              "      <td>AAA</td>\n",
              "      <td>Medium</td>\n",
              "      <td>NaN</td>\n",
              "      <td>0.453374</td>\n",
              "      <td>27.971650</td>\n",
              "      <td>3.519074</td>\n",
              "    </tr>\n",
              "  </tbody>\n",
              "</table>\n",
              "</div>"
            ],
            "text/plain": [
              "  tracking_id  ... windmill_generated_power(kW/h)\n",
              "0    WM_33725  ...                       6.766521\n",
              "1      WM_698  ...                       5.966275\n",
              "2    WM_39146  ...                       2.874342\n",
              "3     WM_6757  ...                      14.851089\n",
              "4    WM_21521  ...                       3.519074\n",
              "\n",
              "[5 rows x 22 columns]"
            ]
          },
          "metadata": {
            "tags": []
          },
          "execution_count": 2
        }
      ]
    },
    {
      "cell_type": "markdown",
      "metadata": {
        "id": "scr8ek4ZS0Qe"
      },
      "source": [
        "# **Preprocessing the train data**"
      ]
    },
    {
      "cell_type": "code",
      "metadata": {
        "colab": {
          "base_uri": "https://localhost:8080/",
          "height": 796
        },
        "id": "osRvXsDbklXP",
        "outputId": "473b4bf9-096c-4646-f918-2926e4507df2"
      },
      "source": [
        "#Replacing the NAN values with zero using numpy\n",
        "train_data.replace(np.nan, 0)"
      ],
      "execution_count": 3,
      "outputs": [
        {
          "output_type": "execute_result",
          "data": {
            "text/html": [
              "<div>\n",
              "<style scoped>\n",
              "    .dataframe tbody tr th:only-of-type {\n",
              "        vertical-align: middle;\n",
              "    }\n",
              "\n",
              "    .dataframe tbody tr th {\n",
              "        vertical-align: top;\n",
              "    }\n",
              "\n",
              "    .dataframe thead th {\n",
              "        text-align: right;\n",
              "    }\n",
              "</style>\n",
              "<table border=\"1\" class=\"dataframe\">\n",
              "  <thead>\n",
              "    <tr style=\"text-align: right;\">\n",
              "      <th></th>\n",
              "      <th>tracking_id</th>\n",
              "      <th>datetime</th>\n",
              "      <th>wind_speed(m/s)</th>\n",
              "      <th>atmospheric_temperature(°C)</th>\n",
              "      <th>shaft_temperature(°C)</th>\n",
              "      <th>blades_angle(°)</th>\n",
              "      <th>gearbox_temperature(°C)</th>\n",
              "      <th>engine_temperature(°C)</th>\n",
              "      <th>motor_torque(N-m)</th>\n",
              "      <th>generator_temperature(°C)</th>\n",
              "      <th>atmospheric_pressure(Pascal)</th>\n",
              "      <th>area_temperature(°C)</th>\n",
              "      <th>windmill_body_temperature(°C)</th>\n",
              "      <th>wind_direction(°)</th>\n",
              "      <th>resistance(ohm)</th>\n",
              "      <th>rotor_torque(N-m)</th>\n",
              "      <th>turbine_status</th>\n",
              "      <th>cloud_level</th>\n",
              "      <th>blade_length(m)</th>\n",
              "      <th>blade_breadth(m)</th>\n",
              "      <th>windmill_height(m)</th>\n",
              "      <th>windmill_generated_power(kW/h)</th>\n",
              "    </tr>\n",
              "  </thead>\n",
              "  <tbody>\n",
              "    <tr>\n",
              "      <th>0</th>\n",
              "      <td>WM_33725</td>\n",
              "      <td>2019-08-04 14:33:20</td>\n",
              "      <td>94.820023</td>\n",
              "      <td>-99.000000</td>\n",
              "      <td>41.723019</td>\n",
              "      <td>-0.903423</td>\n",
              "      <td>82.410573</td>\n",
              "      <td>42.523015</td>\n",
              "      <td>2563.124522</td>\n",
              "      <td>76.665560</td>\n",
              "      <td>103402.961872</td>\n",
              "      <td>26.897875</td>\n",
              "      <td>0.000000</td>\n",
              "      <td>239.836388</td>\n",
              "      <td>2730.310605</td>\n",
              "      <td>42.084666</td>\n",
              "      <td>BA</td>\n",
              "      <td>Medium</td>\n",
              "      <td>2.217542</td>\n",
              "      <td>0.314065</td>\n",
              "      <td>24.281689</td>\n",
              "      <td>6.766521</td>\n",
              "    </tr>\n",
              "    <tr>\n",
              "      <th>1</th>\n",
              "      <td>WM_698</td>\n",
              "      <td>2018-11-05 10:13:20</td>\n",
              "      <td>241.832734</td>\n",
              "      <td>27.764785</td>\n",
              "      <td>-99.000000</td>\n",
              "      <td>-99.000000</td>\n",
              "      <td>44.104919</td>\n",
              "      <td>46.258870</td>\n",
              "      <td>2372.384119</td>\n",
              "      <td>78.129803</td>\n",
              "      <td>17030.904078</td>\n",
              "      <td>39.801469</td>\n",
              "      <td>0.000000</td>\n",
              "      <td>337.944723</td>\n",
              "      <td>1780.207200</td>\n",
              "      <td>107.888643</td>\n",
              "      <td>A2</td>\n",
              "      <td>Medium</td>\n",
              "      <td>4.210346</td>\n",
              "      <td>0.448494</td>\n",
              "      <td>27.262139</td>\n",
              "      <td>5.966275</td>\n",
              "    </tr>\n",
              "    <tr>\n",
              "      <th>2</th>\n",
              "      <td>WM_39146</td>\n",
              "      <td>2019-09-14 14:03:20</td>\n",
              "      <td>95.484724</td>\n",
              "      <td>0.000000</td>\n",
              "      <td>41.855473</td>\n",
              "      <td>12.652763</td>\n",
              "      <td>42.322098</td>\n",
              "      <td>42.878552</td>\n",
              "      <td>1657.169646</td>\n",
              "      <td>67.654469</td>\n",
              "      <td>16125.927107</td>\n",
              "      <td>36.116065</td>\n",
              "      <td>45.033197</td>\n",
              "      <td>227.850294</td>\n",
              "      <td>1666.049900</td>\n",
              "      <td>-42.931459</td>\n",
              "      <td>ABC</td>\n",
              "      <td>Medium</td>\n",
              "      <td>2.719475</td>\n",
              "      <td>0.302321</td>\n",
              "      <td>27.366127</td>\n",
              "      <td>2.874342</td>\n",
              "    </tr>\n",
              "    <tr>\n",
              "      <th>3</th>\n",
              "      <td>WM_6757</td>\n",
              "      <td>2018-12-25 15:33:20</td>\n",
              "      <td>238.819424</td>\n",
              "      <td>-99.000000</td>\n",
              "      <td>45.443914</td>\n",
              "      <td>15.115323</td>\n",
              "      <td>44.759643</td>\n",
              "      <td>47.282101</td>\n",
              "      <td>2888.134079</td>\n",
              "      <td>95.389974</td>\n",
              "      <td>18689.732336</td>\n",
              "      <td>46.020045</td>\n",
              "      <td>44.827154</td>\n",
              "      <td>492.081520</td>\n",
              "      <td>1964.502895</td>\n",
              "      <td>42.744596</td>\n",
              "      <td>ABC</td>\n",
              "      <td>0</td>\n",
              "      <td>4.857385</td>\n",
              "      <td>0.367140</td>\n",
              "      <td>24.287767</td>\n",
              "      <td>14.851089</td>\n",
              "    </tr>\n",
              "    <tr>\n",
              "      <th>4</th>\n",
              "      <td>WM_21521</td>\n",
              "      <td>2019-05-04 03:13:20</td>\n",
              "      <td>10.722890</td>\n",
              "      <td>0.000000</td>\n",
              "      <td>41.981183</td>\n",
              "      <td>1.715696</td>\n",
              "      <td>-17.616459</td>\n",
              "      <td>43.469852</td>\n",
              "      <td>781.695419</td>\n",
              "      <td>37.423065</td>\n",
              "      <td>114468.169007</td>\n",
              "      <td>34.572941</td>\n",
              "      <td>-99.000000</td>\n",
              "      <td>259.274601</td>\n",
              "      <td>1177.516152</td>\n",
              "      <td>13.387289</td>\n",
              "      <td>AAA</td>\n",
              "      <td>Medium</td>\n",
              "      <td>0.000000</td>\n",
              "      <td>0.453374</td>\n",
              "      <td>27.971650</td>\n",
              "      <td>3.519074</td>\n",
              "    </tr>\n",
              "    <tr>\n",
              "      <th>...</th>\n",
              "      <td>...</td>\n",
              "      <td>...</td>\n",
              "      <td>...</td>\n",
              "      <td>...</td>\n",
              "      <td>...</td>\n",
              "      <td>...</td>\n",
              "      <td>...</td>\n",
              "      <td>...</td>\n",
              "      <td>...</td>\n",
              "      <td>...</td>\n",
              "      <td>...</td>\n",
              "      <td>...</td>\n",
              "      <td>...</td>\n",
              "      <td>...</td>\n",
              "      <td>...</td>\n",
              "      <td>...</td>\n",
              "      <td>...</td>\n",
              "      <td>...</td>\n",
              "      <td>...</td>\n",
              "      <td>...</td>\n",
              "      <td>...</td>\n",
              "      <td>...</td>\n",
              "    </tr>\n",
              "    <tr>\n",
              "      <th>28195</th>\n",
              "      <td>WM_7814</td>\n",
              "      <td>2019-01-02 02:43:20</td>\n",
              "      <td>94.765699</td>\n",
              "      <td>23.576793</td>\n",
              "      <td>45.399352</td>\n",
              "      <td>5.377222</td>\n",
              "      <td>-1.085171</td>\n",
              "      <td>48.528248</td>\n",
              "      <td>2791.600990</td>\n",
              "      <td>90.898875</td>\n",
              "      <td>19428.725079</td>\n",
              "      <td>45.429230</td>\n",
              "      <td>44.242269</td>\n",
              "      <td>536.153413</td>\n",
              "      <td>1980.861921</td>\n",
              "      <td>45.909054</td>\n",
              "      <td>BB</td>\n",
              "      <td>Medium</td>\n",
              "      <td>2.774335</td>\n",
              "      <td>0.418299</td>\n",
              "      <td>24.590801</td>\n",
              "      <td>9.587934</td>\n",
              "    </tr>\n",
              "    <tr>\n",
              "      <th>28196</th>\n",
              "      <td>WM_32512</td>\n",
              "      <td>2019-07-26 12:53:20</td>\n",
              "      <td>94.196738</td>\n",
              "      <td>24.034329</td>\n",
              "      <td>42.068979</td>\n",
              "      <td>-99.000000</td>\n",
              "      <td>44.285153</td>\n",
              "      <td>43.487939</td>\n",
              "      <td>2207.882276</td>\n",
              "      <td>72.244645</td>\n",
              "      <td>16596.485400</td>\n",
              "      <td>25.142681</td>\n",
              "      <td>43.616412</td>\n",
              "      <td>354.239825</td>\n",
              "      <td>1712.840457</td>\n",
              "      <td>36.974913</td>\n",
              "      <td>BB</td>\n",
              "      <td>Low</td>\n",
              "      <td>-3.250989</td>\n",
              "      <td>0.461531</td>\n",
              "      <td>26.051604</td>\n",
              "      <td>4.522195</td>\n",
              "    </tr>\n",
              "    <tr>\n",
              "      <th>28197</th>\n",
              "      <td>WM_5193</td>\n",
              "      <td>2018-12-12 02:13:20</td>\n",
              "      <td>94.160463</td>\n",
              "      <td>28.674296</td>\n",
              "      <td>45.004213</td>\n",
              "      <td>9.550358</td>\n",
              "      <td>49.377706</td>\n",
              "      <td>44.042632</td>\n",
              "      <td>2801.657374</td>\n",
              "      <td>94.814637</td>\n",
              "      <td>19083.881449</td>\n",
              "      <td>45.129442</td>\n",
              "      <td>43.576510</td>\n",
              "      <td>534.209913</td>\n",
              "      <td>1951.728713</td>\n",
              "      <td>88.319152</td>\n",
              "      <td>D</td>\n",
              "      <td>Medium</td>\n",
              "      <td>0.000000</td>\n",
              "      <td>0.380264</td>\n",
              "      <td>28.533850</td>\n",
              "      <td>11.096599</td>\n",
              "    </tr>\n",
              "    <tr>\n",
              "      <th>28198</th>\n",
              "      <td>WM_12173</td>\n",
              "      <td>2019-02-03 19:13:20</td>\n",
              "      <td>95.430377</td>\n",
              "      <td>26.560254</td>\n",
              "      <td>48.032624</td>\n",
              "      <td>3.051389</td>\n",
              "      <td>81.443896</td>\n",
              "      <td>44.821365</td>\n",
              "      <td>2760.647280</td>\n",
              "      <td>90.144418</td>\n",
              "      <td>18360.785707</td>\n",
              "      <td>45.603927</td>\n",
              "      <td>44.973415</td>\n",
              "      <td>568.504898</td>\n",
              "      <td>1968.917692</td>\n",
              "      <td>47.562627</td>\n",
              "      <td>BCB</td>\n",
              "      <td>Low</td>\n",
              "      <td>3.001855</td>\n",
              "      <td>0.346447</td>\n",
              "      <td>47.747269</td>\n",
              "      <td>9.373239</td>\n",
              "    </tr>\n",
              "    <tr>\n",
              "      <th>28199</th>\n",
              "      <td>WM_33004</td>\n",
              "      <td>2019-07-30 11:43:20</td>\n",
              "      <td>43.558352</td>\n",
              "      <td>18.721231</td>\n",
              "      <td>9.220208</td>\n",
              "      <td>2.593639</td>\n",
              "      <td>40.262279</td>\n",
              "      <td>40.901975</td>\n",
              "      <td>2015.977410</td>\n",
              "      <td>69.043447</td>\n",
              "      <td>-256507.547672</td>\n",
              "      <td>22.413407</td>\n",
              "      <td>44.100782</td>\n",
              "      <td>320.498070</td>\n",
              "      <td>1666.526546</td>\n",
              "      <td>-8.932053</td>\n",
              "      <td>BBB</td>\n",
              "      <td>Low</td>\n",
              "      <td>0.000000</td>\n",
              "      <td>0.388855</td>\n",
              "      <td>24.125408</td>\n",
              "      <td>2.860342</td>\n",
              "    </tr>\n",
              "  </tbody>\n",
              "</table>\n",
              "<p>28200 rows × 22 columns</p>\n",
              "</div>"
            ],
            "text/plain": [
              "      tracking_id  ... windmill_generated_power(kW/h)\n",
              "0        WM_33725  ...                       6.766521\n",
              "1          WM_698  ...                       5.966275\n",
              "2        WM_39146  ...                       2.874342\n",
              "3         WM_6757  ...                      14.851089\n",
              "4        WM_21521  ...                       3.519074\n",
              "...           ...  ...                            ...\n",
              "28195     WM_7814  ...                       9.587934\n",
              "28196    WM_32512  ...                       4.522195\n",
              "28197     WM_5193  ...                      11.096599\n",
              "28198    WM_12173  ...                       9.373239\n",
              "28199    WM_33004  ...                       2.860342\n",
              "\n",
              "[28200 rows x 22 columns]"
            ]
          },
          "metadata": {
            "tags": []
          },
          "execution_count": 3
        }
      ]
    },
    {
      "cell_type": "code",
      "metadata": {
        "colab": {
          "base_uri": "https://localhost:8080/"
        },
        "id": "0swDK1FblTxa",
        "outputId": "f4550b1c-c634-417a-a9b6-b0c8f8f7657e"
      },
      "source": [
        "# checking the null values \n",
        "train_data.isnull().sum()"
      ],
      "execution_count": 4,
      "outputs": [
        {
          "output_type": "execute_result",
          "data": {
            "text/plain": [
              "tracking_id                          0\n",
              "datetime                             0\n",
              "wind_speed(m/s)                    273\n",
              "atmospheric_temperature(°C)       3450\n",
              "shaft_temperature(°C)                2\n",
              "blades_angle(°)                    216\n",
              "gearbox_temperature(°C)              1\n",
              "engine_temperature(°C)              12\n",
              "motor_torque(N-m)                   24\n",
              "generator_temperature(°C)           12\n",
              "atmospheric_pressure(Pascal)      2707\n",
              "area_temperature(°C)                 0\n",
              "windmill_body_temperature(°C)     2363\n",
              "wind_direction(°)                 5103\n",
              "resistance(ohm)                      1\n",
              "rotor_torque(N-m)                  572\n",
              "turbine_status                    1759\n",
              "cloud_level                        276\n",
              "blade_length(m)                   5093\n",
              "blade_breadth(m)                     0\n",
              "windmill_height(m)                 543\n",
              "windmill_generated_power(kW/h)     207\n",
              "dtype: int64"
            ]
          },
          "metadata": {
            "tags": []
          },
          "execution_count": 4
        }
      ]
    },
    {
      "cell_type": "code",
      "metadata": {
        "colab": {
          "base_uri": "https://localhost:8080/"
        },
        "id": "dJfDm2I_lcXS",
        "outputId": "369bdc2b-d072-4536-aa6b-a39a5d39a845"
      },
      "source": [
        "#the description of train data for feature windmill_generated_power\n",
        "train_data['windmill_generated_power(kW/h)'].describe()"
      ],
      "execution_count": 5,
      "outputs": [
        {
          "output_type": "execute_result",
          "data": {
            "text/plain": [
              "count    27993.000000\n",
              "mean         6.130529\n",
              "std          2.697520\n",
              "min          0.962305\n",
              "25%          4.059505\n",
              "50%          5.764710\n",
              "75%          7.947195\n",
              "max         20.175358\n",
              "Name: windmill_generated_power(kW/h), dtype: float64"
            ]
          },
          "metadata": {
            "tags": []
          },
          "execution_count": 5
        }
      ]
    },
    {
      "cell_type": "code",
      "metadata": {
        "id": "M_I27QRLlv4q"
      },
      "source": [
        "#Filling all the empty data with mean of their particular column\n",
        "train_data['wind_speed(m/s)'] = train_data['wind_speed(m/s)'].fillna(train_data['wind_speed(m/s)'].mean())\n",
        "train_data['atmospheric_temperature(°C)'] = train_data['atmospheric_temperature(°C)'].fillna(train_data['atmospheric_temperature(°C)'].mean())\n",
        "train_data['shaft_temperature(°C)'] = train_data['shaft_temperature(°C)'].fillna(train_data['shaft_temperature(°C)'].mean())\n",
        "train_data['area_temperature(°C)'] = train_data['area_temperature(°C)'].fillna(train_data['area_temperature(°C)'].mean())\n",
        "train_data['windmill_body_temperature(°C)'] = train_data['windmill_body_temperature(°C)'].fillna(train_data['windmill_body_temperature(°C)'].mean())\n",
        "train_data['resistance(ohm)'] = train_data['resistance(ohm)'].fillna(train_data['resistance(ohm)'].mean())\n",
        "train_data['rotor_torque(N-m)'] = train_data['rotor_torque(N-m)'].fillna(train_data['rotor_torque(N-m)'].mean())\n",
        "train_data['blade_length(m)'] = train_data['blade_length(m)'].fillna(train_data['blade_length(m)'].mean())\n",
        "train_data['windmill_height(m)'] = train_data['windmill_height(m)'].fillna(train_data['windmill_height(m)'].mean())\n",
        "train_data['blades_angle(°)'] = train_data['blades_angle(°)'].fillna(train_data['blades_angle(°)'].mean())\n",
        "train_data['gearbox_temperature(°C)'] = train_data['gearbox_temperature(°C)'].fillna(train_data['gearbox_temperature(°C)'].mean())\n",
        "train_data['engine_temperature(°C)'] = train_data['engine_temperature(°C)'].fillna(train_data['engine_temperature(°C)'].mean())\n",
        "train_data['motor_torque(N-m)'] = train_data['motor_torque(N-m)'].fillna(train_data['motor_torque(N-m)'].mean())\n",
        "train_data['generator_temperature(°C)'] = train_data['generator_temperature(°C)'].fillna(train_data['generator_temperature(°C)'].mean())\n",
        "train_data['atmospheric_pressure(Pascal)'] = train_data['atmospheric_pressure(Pascal)'].fillna(train_data['atmospheric_pressure(Pascal)'].mean())\n",
        "train_data['wind_direction(°)'] = train_data['wind_direction(°)'].fillna(train_data['wind_direction(°)'].mean())\n",
        "train_data['windmill_generated_power(kW/h)'] = train_data['windmill_generated_power(kW/h)'].fillna(train_data['windmill_generated_power(kW/h)'].mean())"
      ],
      "execution_count": 6,
      "outputs": []
    },
    {
      "cell_type": "code",
      "metadata": {
        "id": "QYa55RHmnsqZ"
      },
      "source": [
        "#Replacing the str values into 0,1 and 2 for cloud_level feature\n",
        "train_data['cloud_level'] = train_data['cloud_level'].replace({'Low':0,'Medium':1,'Extremely Low':2})"
      ],
      "execution_count": 7,
      "outputs": []
    },
    {
      "cell_type": "code",
      "metadata": {
        "id": "29lmeFo2oJcm"
      },
      "source": [
        "#After replacing the cloud values fill all the empty data with mean\n",
        "train_data['cloud_level'] = train_data['cloud_level'].fillna(train_data['cloud_level'].mean())"
      ],
      "execution_count": 8,
      "outputs": []
    },
    {
      "cell_type": "code",
      "metadata": {
        "id": "rfkaox97lZml"
      },
      "source": [
        "#droping the turbine status becasue we will not use the str data column in regression problem\n",
        "train_data1 = train_data.drop(columns = ['turbine_status'],axis =0)"
      ],
      "execution_count": 9,
      "outputs": []
    },
    {
      "cell_type": "code",
      "metadata": {
        "colab": {
          "base_uri": "https://localhost:8080/"
        },
        "id": "3pU4A6-tpEyI",
        "outputId": "439f2e9c-3927-4caa-8220-dde5bb37a05f"
      },
      "source": [
        "#after all the preprocessing again checking with null values if there is any\n",
        "train_data1.isnull().sum()"
      ],
      "execution_count": 10,
      "outputs": [
        {
          "output_type": "execute_result",
          "data": {
            "text/plain": [
              "tracking_id                       0\n",
              "datetime                          0\n",
              "wind_speed(m/s)                   0\n",
              "atmospheric_temperature(°C)       0\n",
              "shaft_temperature(°C)             0\n",
              "blades_angle(°)                   0\n",
              "gearbox_temperature(°C)           0\n",
              "engine_temperature(°C)            0\n",
              "motor_torque(N-m)                 0\n",
              "generator_temperature(°C)         0\n",
              "atmospheric_pressure(Pascal)      0\n",
              "area_temperature(°C)              0\n",
              "windmill_body_temperature(°C)     0\n",
              "wind_direction(°)                 0\n",
              "resistance(ohm)                   0\n",
              "rotor_torque(N-m)                 0\n",
              "cloud_level                       0\n",
              "blade_length(m)                   0\n",
              "blade_breadth(m)                  0\n",
              "windmill_height(m)                0\n",
              "windmill_generated_power(kW/h)    0\n",
              "dtype: int64"
            ]
          },
          "metadata": {
            "tags": []
          },
          "execution_count": 10
        }
      ]
    },
    {
      "cell_type": "markdown",
      "metadata": {
        "id": "uZykyUedS_rN"
      },
      "source": [
        "# **Train split with feature selection**"
      ]
    },
    {
      "cell_type": "code",
      "metadata": {
        "id": "6VyebPMfo23N"
      },
      "source": [
        "#spliting the data into X and y values\n",
        "X = train_data1.drop(columns =['windmill_generated_power(kW/h)','tracking_id','datetime'],axis= 0 )\n",
        "y =train_data1['windmill_generated_power(kW/h)']"
      ],
      "execution_count": 11,
      "outputs": []
    },
    {
      "cell_type": "code",
      "metadata": {
        "colab": {
          "base_uri": "https://localhost:8080/",
          "height": 411
        },
        "id": "4w1MDlBFxfit",
        "outputId": "9e305b95-517b-46c9-ab10-3af10dfc2b53"
      },
      "source": [
        "test_data = pd.read_csv('/content/drive/MyDrive/power_prediction/test.csv')\n",
        "test_data.head()"
      ],
      "execution_count": 12,
      "outputs": [
        {
          "output_type": "execute_result",
          "data": {
            "text/html": [
              "<div>\n",
              "<style scoped>\n",
              "    .dataframe tbody tr th:only-of-type {\n",
              "        vertical-align: middle;\n",
              "    }\n",
              "\n",
              "    .dataframe tbody tr th {\n",
              "        vertical-align: top;\n",
              "    }\n",
              "\n",
              "    .dataframe thead th {\n",
              "        text-align: right;\n",
              "    }\n",
              "</style>\n",
              "<table border=\"1\" class=\"dataframe\">\n",
              "  <thead>\n",
              "    <tr style=\"text-align: right;\">\n",
              "      <th></th>\n",
              "      <th>tracking_id</th>\n",
              "      <th>datetime</th>\n",
              "      <th>wind_speed(m/s)</th>\n",
              "      <th>atmospheric_temperature(°C)</th>\n",
              "      <th>shaft_temperature(°C)</th>\n",
              "      <th>blades_angle(°)</th>\n",
              "      <th>gearbox_temperature(°C)</th>\n",
              "      <th>engine_temperature(°C)</th>\n",
              "      <th>motor_torque(N-m)</th>\n",
              "      <th>generator_temperature(°C)</th>\n",
              "      <th>atmospheric_pressure(Pascal)</th>\n",
              "      <th>area_temperature(°C)</th>\n",
              "      <th>windmill_body_temperature(°C)</th>\n",
              "      <th>wind_direction(°)</th>\n",
              "      <th>resistance(ohm)</th>\n",
              "      <th>rotor_torque(N-m)</th>\n",
              "      <th>turbine_status</th>\n",
              "      <th>cloud_level</th>\n",
              "      <th>blade_length(m)</th>\n",
              "      <th>blade_breadth(m)</th>\n",
              "      <th>windmill_height(m)</th>\n",
              "    </tr>\n",
              "  </thead>\n",
              "  <tbody>\n",
              "    <tr>\n",
              "      <th>0</th>\n",
              "      <td>WM_19817</td>\n",
              "      <td>2019-04-17 08:53:20</td>\n",
              "      <td>94.324266</td>\n",
              "      <td>17.641186</td>\n",
              "      <td>89.714193</td>\n",
              "      <td>51.146788</td>\n",
              "      <td>40.460560</td>\n",
              "      <td>39.594734</td>\n",
              "      <td>1073.202715</td>\n",
              "      <td>66.830037</td>\n",
              "      <td>16681.044117</td>\n",
              "      <td>24.004812</td>\n",
              "      <td>43.756693</td>\n",
              "      <td>445.976992</td>\n",
              "      <td>1664.222023</td>\n",
              "      <td>21.912243</td>\n",
              "      <td>BA</td>\n",
              "      <td>Medium</td>\n",
              "      <td>3.185837</td>\n",
              "      <td>0.403965</td>\n",
              "      <td>25.572431</td>\n",
              "    </tr>\n",
              "    <tr>\n",
              "      <th>1</th>\n",
              "      <td>WM_18723</td>\n",
              "      <td>2019-03-30 07:43:20</td>\n",
              "      <td>10.088870</td>\n",
              "      <td>13.978119</td>\n",
              "      <td>43.272846</td>\n",
              "      <td>46.516394</td>\n",
              "      <td>40.027788</td>\n",
              "      <td>41.176860</td>\n",
              "      <td>517.436430</td>\n",
              "      <td>37.284163</td>\n",
              "      <td>NaN</td>\n",
              "      <td>29.431813</td>\n",
              "      <td>42.728174</td>\n",
              "      <td>499.595287</td>\n",
              "      <td>1165.111992</td>\n",
              "      <td>-35.050093</td>\n",
              "      <td>A</td>\n",
              "      <td>Medium</td>\n",
              "      <td>3.016603</td>\n",
              "      <td>0.444755</td>\n",
              "      <td>24.371823</td>\n",
              "    </tr>\n",
              "    <tr>\n",
              "      <th>2</th>\n",
              "      <td>WM_34552</td>\n",
              "      <td>2019-08-10 11:33:20</td>\n",
              "      <td>347.152090</td>\n",
              "      <td>31.423035</td>\n",
              "      <td>41.076640</td>\n",
              "      <td>26.931602</td>\n",
              "      <td>43.109122</td>\n",
              "      <td>43.439556</td>\n",
              "      <td>1480.716492</td>\n",
              "      <td>70.010762</td>\n",
              "      <td>214812.836175</td>\n",
              "      <td>29.924235</td>\n",
              "      <td>43.256122</td>\n",
              "      <td>245.432231</td>\n",
              "      <td>1667.720491</td>\n",
              "      <td>27.195302</td>\n",
              "      <td>B2</td>\n",
              "      <td>Medium</td>\n",
              "      <td>2.611941</td>\n",
              "      <td>0.387368</td>\n",
              "      <td>27.654677</td>\n",
              "    </tr>\n",
              "    <tr>\n",
              "      <th>3</th>\n",
              "      <td>WM_28570</td>\n",
              "      <td>2019-06-26 03:53:20</td>\n",
              "      <td>24.471997</td>\n",
              "      <td>-99.000000</td>\n",
              "      <td>14.375078</td>\n",
              "      <td>66.513953</td>\n",
              "      <td>13.741253</td>\n",
              "      <td>15.577472</td>\n",
              "      <td>887.979475</td>\n",
              "      <td>41.445258</td>\n",
              "      <td>NaN</td>\n",
              "      <td>23.886434</td>\n",
              "      <td>13.501595</td>\n",
              "      <td>NaN</td>\n",
              "      <td>1329.744740</td>\n",
              "      <td>15.245757</td>\n",
              "      <td>BBB</td>\n",
              "      <td>Low</td>\n",
              "      <td>2.866805</td>\n",
              "      <td>0.450478</td>\n",
              "      <td>24.189426</td>\n",
              "    </tr>\n",
              "    <tr>\n",
              "      <th>4</th>\n",
              "      <td>WM_36934</td>\n",
              "      <td>2019-08-27 16:43:20</td>\n",
              "      <td>96.997026</td>\n",
              "      <td>33.281836</td>\n",
              "      <td>41.405192</td>\n",
              "      <td>1.843112</td>\n",
              "      <td>121.572907</td>\n",
              "      <td>43.934587</td>\n",
              "      <td>2053.916354</td>\n",
              "      <td>68.007787</td>\n",
              "      <td>16833.546517</td>\n",
              "      <td>35.906889</td>\n",
              "      <td>-99.000000</td>\n",
              "      <td>442.425744</td>\n",
              "      <td>691.408996</td>\n",
              "      <td>34.257024</td>\n",
              "      <td>A</td>\n",
              "      <td>Low</td>\n",
              "      <td>3.549672</td>\n",
              "      <td>0.368355</td>\n",
              "      <td>4.885440</td>\n",
              "    </tr>\n",
              "  </tbody>\n",
              "</table>\n",
              "</div>"
            ],
            "text/plain": [
              "  tracking_id             datetime  ...  blade_breadth(m)  windmill_height(m)\n",
              "0    WM_19817  2019-04-17 08:53:20  ...          0.403965           25.572431\n",
              "1    WM_18723  2019-03-30 07:43:20  ...          0.444755           24.371823\n",
              "2    WM_34552  2019-08-10 11:33:20  ...          0.387368           27.654677\n",
              "3    WM_28570  2019-06-26 03:53:20  ...          0.450478           24.189426\n",
              "4    WM_36934  2019-08-27 16:43:20  ...          0.368355            4.885440\n",
              "\n",
              "[5 rows x 21 columns]"
            ]
          },
          "metadata": {
            "tags": []
          },
          "execution_count": 12
        }
      ]
    },
    {
      "cell_type": "markdown",
      "metadata": {
        "id": "Wm82uWbcTSfe"
      },
      "source": [
        "# **Preprocessing the test data**"
      ]
    },
    {
      "cell_type": "code",
      "metadata": {
        "id": "NXwzcYM6zqkB"
      },
      "source": [
        "test_data['wind_speed(m/s)'] = test_data['wind_speed(m/s)'].fillna(test_data['wind_speed(m/s)'].mean())\n",
        "test_data['atmospheric_temperature(°C)'] = test_data['atmospheric_temperature(°C)'].fillna(test_data['atmospheric_temperature(°C)'].mean())\n",
        "test_data['shaft_temperature(°C)'] = test_data['shaft_temperature(°C)'].fillna(test_data['shaft_temperature(°C)'].mean())\n",
        "test_data['area_temperature(°C)'] = test_data['area_temperature(°C)'].fillna(test_data['area_temperature(°C)'].mean())\n",
        "test_data['windmill_body_temperature(°C)'] = test_data['windmill_body_temperature(°C)'].fillna(test_data['windmill_body_temperature(°C)'].mean())\n",
        "test_data['resistance(ohm)'] = test_data['resistance(ohm)'].fillna(test_data['resistance(ohm)'].mean())\n",
        "test_data['rotor_torque(N-m)'] = test_data['rotor_torque(N-m)'].fillna(test_data['rotor_torque(N-m)'].mean())\n",
        "test_data['blade_length(m)'] = test_data['blade_length(m)'].fillna(test_data['blade_length(m)'].mean())\n",
        "test_data['windmill_height(m)'] = test_data['windmill_height(m)'].fillna(test_data['windmill_height(m)'].mean())\n",
        "test_data['blades_angle(°)'] = test_data['blades_angle(°)'].fillna(test_data['blades_angle(°)'].mean())\n",
        "test_data['gearbox_temperature(°C)'] = test_data['gearbox_temperature(°C)'].fillna(test_data['gearbox_temperature(°C)'].mean())\n",
        "test_data['engine_temperature(°C)'] = test_data['engine_temperature(°C)'].fillna(test_data['engine_temperature(°C)'].mean())\n",
        "test_data['generator_temperature(°C)'] = test_data['generator_temperature(°C)'].fillna(test_data['generator_temperature(°C)'].mean())\n",
        "test_data['atmospheric_pressure(Pascal)'] = test_data['atmospheric_pressure(Pascal)'].fillna(test_data['atmospheric_pressure(Pascal)'].mean())\n",
        "test_data['wind_direction(°)'] = test_data['wind_direction(°)'].fillna(test_data['wind_direction(°)'].mean())\n",
        "test_data['motor_torque(N-m)'] = test_data['motor_torque(N-m)'].fillna(test_data['motor_torque(N-m)'].mean())"
      ],
      "execution_count": 13,
      "outputs": []
    },
    {
      "cell_type": "code",
      "metadata": {
        "id": "FFdXb9RK1JSI"
      },
      "source": [
        "test_data['cloud_level'] = test_data['cloud_level'].replace({'Low':0,'Medium':1,'Extremely Low':2})"
      ],
      "execution_count": 14,
      "outputs": []
    },
    {
      "cell_type": "code",
      "metadata": {
        "id": "SYYLYUG51lkq"
      },
      "source": [
        "test_data['cloud_level'] = test_data['cloud_level'].fillna(test_data['cloud_level'].mean())"
      ],
      "execution_count": 15,
      "outputs": []
    },
    {
      "cell_type": "code",
      "metadata": {
        "id": "aLudQb6i1wRe"
      },
      "source": [
        "test_data1 = test_data.drop(columns = ['turbine_status','tracking_id','datetime'])"
      ],
      "execution_count": 16,
      "outputs": []
    },
    {
      "cell_type": "code",
      "metadata": {
        "colab": {
          "base_uri": "https://localhost:8080/"
        },
        "id": "xqayEDmNrJgD",
        "outputId": "da4ce74b-bfec-4b9b-a288-d2d727244b54"
      },
      "source": [
        "test_data1.isnull().sum()"
      ],
      "execution_count": 17,
      "outputs": [
        {
          "output_type": "execute_result",
          "data": {
            "text/plain": [
              "wind_speed(m/s)                  0\n",
              "atmospheric_temperature(°C)      0\n",
              "shaft_temperature(°C)            0\n",
              "blades_angle(°)                  0\n",
              "gearbox_temperature(°C)          0\n",
              "engine_temperature(°C)           0\n",
              "motor_torque(N-m)                0\n",
              "generator_temperature(°C)        0\n",
              "atmospheric_pressure(Pascal)     0\n",
              "area_temperature(°C)             0\n",
              "windmill_body_temperature(°C)    0\n",
              "wind_direction(°)                0\n",
              "resistance(ohm)                  0\n",
              "rotor_torque(N-m)                0\n",
              "cloud_level                      0\n",
              "blade_length(m)                  0\n",
              "blade_breadth(m)                 0\n",
              "windmill_height(m)               0\n",
              "dtype: int64"
            ]
          },
          "metadata": {
            "tags": []
          },
          "execution_count": 17
        }
      ]
    },
    {
      "cell_type": "markdown",
      "metadata": {
        "id": "l_3JYrZvTkxd"
      },
      "source": [
        "#**Model building**"
      ]
    },
    {
      "cell_type": "code",
      "metadata": {
        "colab": {
          "base_uri": "https://localhost:8080/"
        },
        "id": "gnyOS8uoqn7e",
        "outputId": "98f11ac1-13bf-4f9d-f0ff-c4c3f5e8f7a9"
      },
      "source": [
        "#Linear Regression\n",
        "from sklearn.linear_model import LinearRegression\n",
        "model = LinearRegression()\n",
        "model.fit(X,y)\n",
        "print(model.score(X,y))\n",
        "y_pred = model.predict(X)\n",
        "y_pred"
      ],
      "execution_count": 18,
      "outputs": [
        {
          "output_type": "stream",
          "text": [
            "0.4153260264513854\n"
          ],
          "name": "stdout"
        },
        {
          "output_type": "execute_result",
          "data": {
            "text/plain": [
              "array([7.36614984, 7.54975267, 5.33941655, ..., 8.72196027, 9.30056066,\n",
              "       5.7859845 ])"
            ]
          },
          "metadata": {
            "tags": []
          },
          "execution_count": 18
        }
      ]
    },
    {
      "cell_type": "code",
      "metadata": {
        "id": "J1l1RGULuKDL"
      },
      "source": [
        "from sklearn import metrics, svm\n",
        "from sklearn.linear_model import LinearRegression\n",
        "from sklearn.linear_model import LogisticRegression\n",
        "from sklearn.tree import DecisionTreeClassifier,DecisionTreeRegressor\n",
        "from sklearn.neighbors import KNeighborsClassifier\n",
        "from sklearn.discriminant_analysis import LinearDiscriminantAnalysis\n",
        "from sklearn.naive_bayes import GaussianNB\n",
        "from sklearn.svm import SVC\n",
        "from sklearn.ensemble import RandomForestRegressor"
      ],
      "execution_count": 19,
      "outputs": []
    },
    {
      "cell_type": "code",
      "metadata": {
        "colab": {
          "base_uri": "https://localhost:8080/"
        },
        "id": "YuYlrfiGsbaT",
        "outputId": "e4dbd1d3-1d69-4452-a297-4278f7df8e4e"
      },
      "source": [
        "#Support Vector Regressor\n",
        "clf = svm.SVR()\n",
        "clf.fit(X,y)\n",
        "print(clf.score(X,y))\n",
        "svmpred = clf.predict(X)"
      ],
      "execution_count": 20,
      "outputs": [
        {
          "output_type": "stream",
          "text": [
            "0.0947607814199044\n"
          ],
          "name": "stdout"
        }
      ]
    },
    {
      "cell_type": "code",
      "metadata": {
        "colab": {
          "base_uri": "https://localhost:8080/"
        },
        "id": "wtkTFv8zsToi",
        "outputId": "d6694f7a-1d47-47c8-cf56-1751c768aeff"
      },
      "source": [
        "#Decission Tree using regression\n",
        "dtree = DecisionTreeRegressor()\n",
        "dtree.fit(X,y)\n",
        "print(dtree.score(X,y))\n",
        "dtpred = dtree.predict(X)"
      ],
      "execution_count": 21,
      "outputs": [
        {
          "output_type": "stream",
          "text": [
            "0.999999999926843\n"
          ],
          "name": "stdout"
        }
      ]
    },
    {
      "cell_type": "code",
      "metadata": {
        "colab": {
          "base_uri": "https://localhost:8080/"
        },
        "id": "qW6nNcTwwzgr",
        "outputId": "ae3ef568-1f8e-4830-8b01-b6cea9870385"
      },
      "source": [
        "#Random Forest for Regression problem\n",
        "rfm = RandomForestRegressor()\n",
        "rfm.fit(X,y)\n",
        "print(rfm.score(X,y))\n",
        "print(rfm.predict(X))"
      ],
      "execution_count": 22,
      "outputs": [
        {
          "output_type": "stream",
          "text": [
            "0.9932310467997952\n",
            "[ 7.02687842  6.06837748  3.06180455 ... 11.07438536  9.28069438\n",
            "  2.96367   ]\n"
          ],
          "name": "stdout"
        }
      ]
    },
    {
      "cell_type": "code",
      "metadata": {
        "colab": {
          "base_uri": "https://localhost:8080/"
        },
        "id": "oY4weNZe_Fy2",
        "outputId": "2bd98006-3313-4268-c017-2e90f769367d"
      },
      "source": [
        "#XGBOOST using regressor for regression problem\n",
        "from xgboost import XGBRegressor\n",
        "xgr = XGBRegressor()\n",
        "xgr.fit(X,y)\n",
        "print(xgr.score(X,y))\n",
        "xgbpred = xgr.predict(test_data1)"
      ],
      "execution_count": 23,
      "outputs": [
        {
          "output_type": "stream",
          "text": [
            "[08:22:42] WARNING: /workspace/src/objective/regression_obj.cu:152: reg:linear is now deprecated in favor of reg:squarederror.\n",
            "0.9450224421539317\n"
          ],
          "name": "stdout"
        }
      ]
    },
    {
      "cell_type": "code",
      "metadata": {
        "colab": {
          "base_uri": "https://localhost:8080/"
        },
        "id": "XycJ-iz6Bnra",
        "outputId": "97edc85b-43f2-4f1a-e1ff-4d4c5db8a5bd"
      },
      "source": [
        "#KNearestNeighbors regressor\n",
        "from sklearn.neighbors import KNeighborsRegressor\n",
        "knn = KNeighborsRegressor()\n",
        "knn.fit(X,y)\n",
        "print(knn.score(X,y))\n"
      ],
      "execution_count": 24,
      "outputs": [
        {
          "output_type": "stream",
          "text": [
            "0.7994195947168884\n"
          ],
          "name": "stdout"
        }
      ]
    },
    {
      "cell_type": "code",
      "metadata": {
        "colab": {
          "base_uri": "https://localhost:8080/"
        },
        "id": "GtjiE5RbFMxc",
        "outputId": "f5637252-3a38-4bda-db2a-ea822255f12a"
      },
      "source": [
        "#Stochastic Gradient Regressor\n",
        "from sklearn.linear_model import SGDRegressor\n",
        "sgd = SGDRegressor()\n",
        "sgd.fit(X,y)\n",
        "print(sgd.score(X,y))"
      ],
      "execution_count": 25,
      "outputs": [
        {
          "output_type": "stream",
          "text": [
            "-3.327259603061704e+36\n"
          ],
          "name": "stdout"
        }
      ]
    },
    {
      "cell_type": "code",
      "metadata": {
        "id": "pyfmPYBfFZlA"
      },
      "source": [
        "from sklearn.linear_model import BayesianRidge,LassoLars,ARDRegression,PassiveAggressiveRegressor, TheilSenRegressor"
      ],
      "execution_count": 26,
      "outputs": []
    },
    {
      "cell_type": "code",
      "metadata": {
        "colab": {
          "base_uri": "https://localhost:8080/"
        },
        "id": "ulk2r8S5GQB1",
        "outputId": "24067302-effd-425d-e093-ba8c3bdd2c6b"
      },
      "source": [
        "#Bayesian Ridge\n",
        "br = BayesianRidge()\n",
        "br.fit(X,y)\n",
        "print(br.score(X,y))"
      ],
      "execution_count": 27,
      "outputs": [
        {
          "output_type": "stream",
          "text": [
            "0.4143785828844787\n"
          ],
          "name": "stdout"
        }
      ]
    },
    {
      "cell_type": "code",
      "metadata": {
        "colab": {
          "base_uri": "https://localhost:8080/"
        },
        "id": "epwJxQJCGZZ6",
        "outputId": "da802b9c-a3d9-4120-d2fd-c48270d104fb"
      },
      "source": [
        "#Lasso \n",
        "lr = LassoLars()\n",
        "lr.fit(X,y)\n",
        "print(lr.score(X,y))"
      ],
      "execution_count": 28,
      "outputs": [
        {
          "output_type": "stream",
          "text": [
            "0.0\n"
          ],
          "name": "stdout"
        }
      ]
    },
    {
      "cell_type": "code",
      "metadata": {
        "colab": {
          "base_uri": "https://localhost:8080/"
        },
        "id": "sRj8ePqUJ9y5",
        "outputId": "a62681e1-7c79-48e5-e59c-8873fbcfd49d"
      },
      "source": [
        "tsr = TheilSenRegressor()\n",
        "tsr.fit(X,y)\n",
        "print(tsr.score(X,y))"
      ],
      "execution_count": 29,
      "outputs": [
        {
          "output_type": "stream",
          "text": [
            "0.30738512922437033\n"
          ],
          "name": "stdout"
        }
      ]
    },
    {
      "cell_type": "code",
      "metadata": {
        "colab": {
          "base_uri": "https://localhost:8080/"
        },
        "id": "inCKlewJGt6S",
        "outputId": "4ba4ac0b-ef37-4c9c-a04c-a8e356a9d1b5"
      },
      "source": [
        "par = PassiveAggressiveRegressor()\n",
        "par.fit(X,y)\n",
        "print(par.score(X,y))"
      ],
      "execution_count": 30,
      "outputs": [
        {
          "output_type": "stream",
          "text": [
            "-0.42892175887617134\n"
          ],
          "name": "stdout"
        }
      ]
    },
    {
      "cell_type": "markdown",
      "metadata": {
        "id": "6EBlZXDJVhhc"
      },
      "source": [
        "#**Predicting with test data**"
      ]
    },
    {
      "cell_type": "code",
      "metadata": {
        "colab": {
          "base_uri": "https://localhost:8080/"
        },
        "id": "OcMTgXzY4PqM",
        "outputId": "6329345f-54b8-41a3-fd80-6ee2d8b174f2"
      },
      "source": [
        "#Predicting with test data using Random Forest Regressor\n",
        "ypred1 = rfm.predict(test_data1)\n",
        "ypred1"
      ],
      "execution_count": 31,
      "outputs": [
        {
          "output_type": "execute_result",
          "data": {
            "text/plain": [
              "array([ 2.65006336,  2.46700195,  3.38436539, ...,  5.32532631,\n",
              "        5.36113662, 10.61454968])"
            ]
          },
          "metadata": {
            "tags": []
          },
          "execution_count": 31
        }
      ]
    },
    {
      "cell_type": "code",
      "metadata": {
        "colab": {
          "base_uri": "https://localhost:8080/",
          "height": 204
        },
        "id": "DxlhAfVn4mpD",
        "outputId": "205b59d8-4f31-4dab-e5c2-b6819ee58137"
      },
      "source": [
        "#Assigning columns for new dataset\n",
        "submission1 = pd.DataFrame()\n",
        "submission1['tracking_id'] = test_data['tracking_id']\n",
        "submission1['datetime'] = test_data['datetime']\n",
        "submission1['windmill_generated_power(kW/h)'] = ypred1\n",
        "submission1.head()"
      ],
      "execution_count": 32,
      "outputs": [
        {
          "output_type": "execute_result",
          "data": {
            "text/html": [
              "<div>\n",
              "<style scoped>\n",
              "    .dataframe tbody tr th:only-of-type {\n",
              "        vertical-align: middle;\n",
              "    }\n",
              "\n",
              "    .dataframe tbody tr th {\n",
              "        vertical-align: top;\n",
              "    }\n",
              "\n",
              "    .dataframe thead th {\n",
              "        text-align: right;\n",
              "    }\n",
              "</style>\n",
              "<table border=\"1\" class=\"dataframe\">\n",
              "  <thead>\n",
              "    <tr style=\"text-align: right;\">\n",
              "      <th></th>\n",
              "      <th>tracking_id</th>\n",
              "      <th>datetime</th>\n",
              "      <th>windmill_generated_power(kW/h)</th>\n",
              "    </tr>\n",
              "  </thead>\n",
              "  <tbody>\n",
              "    <tr>\n",
              "      <th>0</th>\n",
              "      <td>WM_19817</td>\n",
              "      <td>2019-04-17 08:53:20</td>\n",
              "      <td>2.650063</td>\n",
              "    </tr>\n",
              "    <tr>\n",
              "      <th>1</th>\n",
              "      <td>WM_18723</td>\n",
              "      <td>2019-03-30 07:43:20</td>\n",
              "      <td>2.467002</td>\n",
              "    </tr>\n",
              "    <tr>\n",
              "      <th>2</th>\n",
              "      <td>WM_34552</td>\n",
              "      <td>2019-08-10 11:33:20</td>\n",
              "      <td>3.384365</td>\n",
              "    </tr>\n",
              "    <tr>\n",
              "      <th>3</th>\n",
              "      <td>WM_28570</td>\n",
              "      <td>2019-06-26 03:53:20</td>\n",
              "      <td>6.563926</td>\n",
              "    </tr>\n",
              "    <tr>\n",
              "      <th>4</th>\n",
              "      <td>WM_36934</td>\n",
              "      <td>2019-08-27 16:43:20</td>\n",
              "      <td>3.401117</td>\n",
              "    </tr>\n",
              "  </tbody>\n",
              "</table>\n",
              "</div>"
            ],
            "text/plain": [
              "  tracking_id             datetime  windmill_generated_power(kW/h)\n",
              "0    WM_19817  2019-04-17 08:53:20                        2.650063\n",
              "1    WM_18723  2019-03-30 07:43:20                        2.467002\n",
              "2    WM_34552  2019-08-10 11:33:20                        3.384365\n",
              "3    WM_28570  2019-06-26 03:53:20                        6.563926\n",
              "4    WM_36934  2019-08-27 16:43:20                        3.401117"
            ]
          },
          "metadata": {
            "tags": []
          },
          "execution_count": 32
        }
      ]
    },
    {
      "cell_type": "code",
      "metadata": {
        "id": "_9bwmLB_4tii"
      },
      "source": [
        "#Sending that new data into new csv file\n",
        "submission1.to_csv('/content/drive/MyDrive/power_prediction/submission_output1.csv',index = False)"
      ],
      "execution_count": 34,
      "outputs": []
    }
  ]
}